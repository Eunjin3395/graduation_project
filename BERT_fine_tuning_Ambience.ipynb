{
 "cells": [
  {
   "cell_type": "code",
   "execution_count": 1,
   "id": "52a6716e",
   "metadata": {},
   "outputs": [
    {
     "name": "stdout",
     "output_type": "stream",
     "text": [
      "2.6.0\n"
     ]
    }
   ],
   "source": [
    "#tensorflow 버전 확인\n",
    "import tensorflow as tf\n",
    "print(tf.__version__)"
   ]
  },
  {
   "cell_type": "code",
   "execution_count": 2,
   "id": "ab1557ac",
   "metadata": {},
   "outputs": [
    {
     "name": "stdout",
     "output_type": "stream",
     "text": [
      "[name: \"/device:CPU:0\"\n",
      "device_type: \"CPU\"\n",
      "memory_limit: 268435456\n",
      "locality {\n",
      "}\n",
      "incarnation: 13775553318343400611\n",
      ", name: \"/device:GPU:0\"\n",
      "device_type: \"GPU\"\n",
      "memory_limit: 7799308288\n",
      "locality {\n",
      "  bus_id: 1\n",
      "  links {\n",
      "  }\n",
      "}\n",
      "incarnation: 15449367781023354635\n",
      "physical_device_desc: \"device: 0, name: NVIDIA GeForce RTX 3080, pci bus id: 0000:01:00.0, compute capability: 8.6\"\n",
      "]\n"
     ]
    }
   ],
   "source": [
    "# device list에 GPU있나 확인\n",
    "from tensorflow.python.client import device_lib\n",
    "\n",
    "print(device_lib.list_local_devices())"
   ]
  },
  {
   "cell_type": "code",
   "execution_count": 3,
   "id": "bd43731b",
   "metadata": {},
   "outputs": [
    {
     "name": "stdout",
     "output_type": "stream",
     "text": [
      "Requirement already satisfied: transformers in c:\\users\\kgsa20\\anaconda3\\envs\\tensorflow\\lib\\site-packages (4.27.3)\n",
      "Requirement already satisfied: numpy>=1.17 in c:\\users\\kgsa20\\anaconda3\\envs\\tensorflow\\lib\\site-packages (from transformers) (1.23.5)\n",
      "Requirement already satisfied: packaging>=20.0 in c:\\users\\kgsa20\\anaconda3\\envs\\tensorflow\\lib\\site-packages (from transformers) (23.0)\n",
      "Requirement already satisfied: filelock in c:\\users\\kgsa20\\anaconda3\\envs\\tensorflow\\lib\\site-packages (from transformers) (3.10.7)\n",
      "Requirement already satisfied: pyyaml>=5.1 in c:\\users\\kgsa20\\anaconda3\\envs\\tensorflow\\lib\\site-packages (from transformers) (6.0)\n",
      "Requirement already satisfied: regex!=2019.12.17 in c:\\users\\kgsa20\\anaconda3\\envs\\tensorflow\\lib\\site-packages (from transformers) (2023.3.23)\n",
      "Requirement already satisfied: requests in c:\\users\\kgsa20\\anaconda3\\envs\\tensorflow\\lib\\site-packages (from transformers) (2.28.1)\n",
      "Requirement already satisfied: tokenizers!=0.11.3,<0.14,>=0.11.1 in c:\\users\\kgsa20\\anaconda3\\envs\\tensorflow\\lib\\site-packages (from transformers) (0.13.2)\n",
      "Requirement already satisfied: tqdm>=4.27 in c:\\users\\kgsa20\\anaconda3\\envs\\tensorflow\\lib\\site-packages (from transformers) (4.65.0)\n",
      "Requirement already satisfied: huggingface-hub<1.0,>=0.11.0 in c:\\users\\kgsa20\\anaconda3\\envs\\tensorflow\\lib\\site-packages (from transformers) (0.13.3)\n",
      "Requirement already satisfied: typing-extensions>=3.7.4.3 in c:\\users\\kgsa20\\anaconda3\\envs\\tensorflow\\lib\\site-packages (from huggingface-hub<1.0,>=0.11.0->transformers) (4.4.0)\n",
      "Requirement already satisfied: colorama in c:\\users\\kgsa20\\anaconda3\\envs\\tensorflow\\lib\\site-packages (from tqdm>=4.27->transformers) (0.4.6)\n",
      "Requirement already satisfied: urllib3<1.27,>=1.21.1 in c:\\users\\kgsa20\\anaconda3\\envs\\tensorflow\\lib\\site-packages (from requests->transformers) (1.26.14)\n",
      "Requirement already satisfied: certifi>=2017.4.17 in c:\\users\\kgsa20\\anaconda3\\envs\\tensorflow\\lib\\site-packages (from requests->transformers) (2022.12.7)\n",
      "Requirement already satisfied: idna<4,>=2.5 in c:\\users\\kgsa20\\anaconda3\\envs\\tensorflow\\lib\\site-packages (from requests->transformers) (3.4)\n",
      "Requirement already satisfied: charset-normalizer<3,>=2 in c:\\users\\kgsa20\\anaconda3\\envs\\tensorflow\\lib\\site-packages (from requests->transformers) (2.0.4)\n",
      "Requirement already satisfied: keras==2.6 in c:\\users\\kgsa20\\anaconda3\\envs\\tensorflow\\lib\\site-packages (2.6.0)\n",
      "Requirement already satisfied: scikit-learn in c:\\users\\kgsa20\\anaconda3\\envs\\tensorflow\\lib\\site-packages (1.2.2)\n",
      "Requirement already satisfied: numpy>=1.17.3 in c:\\users\\kgsa20\\anaconda3\\envs\\tensorflow\\lib\\site-packages (from scikit-learn) (1.23.5)\n",
      "Requirement already satisfied: threadpoolctl>=2.0.0 in c:\\users\\kgsa20\\anaconda3\\envs\\tensorflow\\lib\\site-packages (from scikit-learn) (3.1.0)\n",
      "Requirement already satisfied: scipy>=1.3.2 in c:\\users\\kgsa20\\anaconda3\\envs\\tensorflow\\lib\\site-packages (from scikit-learn) (1.10.0)\n",
      "Requirement already satisfied: joblib>=1.1.1 in c:\\users\\kgsa20\\anaconda3\\envs\\tensorflow\\lib\\site-packages (from scikit-learn) (1.2.0)\n",
      "GPU available: True\n"
     ]
    }
   ],
   "source": [
    "#라이브러리 설치\n",
    "!pip install transformers\n",
    "!pip install keras==2.6\n",
    "\n",
    "!pip install scikit-learn\n",
    "\n",
    "#필요한 모듈 불러오기\n",
    "import torch\n",
    "from torch.utils.data import TensorDataset, DataLoader, RandomSampler, SequentialSampler\n",
    "from transformers import BertTokenizer, BertForSequenceClassification\n",
    "\n",
    "from sklearn.model_selection import train_test_split\n",
    "\n",
    "import numpy as np\n",
    "import pandas as pd\n",
    "\n",
    "from tabulate import tabulate\n",
    "from tqdm import trange\n",
    "import random\n",
    "import seaborn as sns\n",
    "import matplotlib.pyplot as plt\n",
    "\n",
    "import warnings\n",
    "warnings.filterwarnings('ignore')\n",
    "\n",
    "\n",
    "print(\"GPU available:\",torch.cuda.is_available())"
   ]
  },
  {
   "cell_type": "code",
   "execution_count": 15,
   "id": "fad91764",
   "metadata": {},
   "outputs": [
    {
     "data": {
      "text/html": [
       "<div>\n",
       "<style scoped>\n",
       "    .dataframe tbody tr th:only-of-type {\n",
       "        vertical-align: middle;\n",
       "    }\n",
       "\n",
       "    .dataframe tbody tr th {\n",
       "        vertical-align: top;\n",
       "    }\n",
       "\n",
       "    .dataframe thead th {\n",
       "        text-align: right;\n",
       "    }\n",
       "</style>\n",
       "<table border=\"1\" class=\"dataframe\">\n",
       "  <thead>\n",
       "    <tr style=\"text-align: right;\">\n",
       "      <th></th>\n",
       "      <th>id</th>\n",
       "      <th>text</th>\n",
       "      <th>category</th>\n",
       "      <th>polarity</th>\n",
       "    </tr>\n",
       "  </thead>\n",
       "  <tbody>\n",
       "    <tr>\n",
       "      <th>0</th>\n",
       "      <td>1779</td>\n",
       "      <td>The owner and staff are all Japanese as well a...</td>\n",
       "      <td>ambience</td>\n",
       "      <td>1</td>\n",
       "    </tr>\n",
       "    <tr>\n",
       "      <th>1</th>\n",
       "      <td>35171678#484493#2</td>\n",
       "      <td>everything is scrumptious, from the excellent ...</td>\n",
       "      <td>ambience</td>\n",
       "      <td>1</td>\n",
       "    </tr>\n",
       "    <tr>\n",
       "      <th>2</th>\n",
       "      <td>2851</td>\n",
       "      <td>It's like you are transported to the Italian c...</td>\n",
       "      <td>ambience</td>\n",
       "      <td>1</td>\n",
       "    </tr>\n",
       "    <tr>\n",
       "      <th>3</th>\n",
       "      <td>838</td>\n",
       "      <td>The aesthetics of this place are like an airpo...</td>\n",
       "      <td>ambience</td>\n",
       "      <td>0</td>\n",
       "    </tr>\n",
       "    <tr>\n",
       "      <th>4</th>\n",
       "      <td>en_CatalRestaurant__UvaBar_477861893:3</td>\n",
       "      <td>It was romantic - and even nice even with my s...</td>\n",
       "      <td>ambience</td>\n",
       "      <td>1</td>\n",
       "    </tr>\n",
       "  </tbody>\n",
       "</table>\n",
       "</div>"
      ],
      "text/plain": [
       "                                       id  \\\n",
       "0                                    1779   \n",
       "1                       35171678#484493#2   \n",
       "2                                    2851   \n",
       "3                                     838   \n",
       "4  en_CatalRestaurant__UvaBar_477861893:3   \n",
       "\n",
       "                                                text  category  polarity  \n",
       "0  The owner and staff are all Japanese as well a...  ambience         1  \n",
       "1  everything is scrumptious, from the excellent ...  ambience         1  \n",
       "2  It's like you are transported to the Italian c...  ambience         1  \n",
       "3  The aesthetics of this place are like an airpo...  ambience         0  \n",
       "4  It was romantic - and even nice even with my s...  ambience         1  "
      ]
     },
     "execution_count": 15,
     "metadata": {},
     "output_type": "execute_result"
    }
   ],
   "source": [
    "# 내 깃허브 폴더에서 리뷰 데이터 불러와서 dataframe으로 저장\n",
    "# Price 속성 리뷰\n",
    "url='https://raw.githubusercontent.com/Eunjin3395/graduation_project/main/data/ambience_total.csv'\n",
    "df = pd.read_csv(url,sep=',', header=0, encoding_errors='ignore')\n",
    "df.head(5)"
   ]
  },
  {
   "cell_type": "code",
   "execution_count": 16,
   "id": "7c66eeb0",
   "metadata": {},
   "outputs": [
    {
     "data": {
      "text/html": [
       "<div>\n",
       "<style scoped>\n",
       "    .dataframe tbody tr th:only-of-type {\n",
       "        vertical-align: middle;\n",
       "    }\n",
       "\n",
       "    .dataframe tbody tr th {\n",
       "        vertical-align: top;\n",
       "    }\n",
       "\n",
       "    .dataframe thead th {\n",
       "        text-align: right;\n",
       "    }\n",
       "</style>\n",
       "<table border=\"1\" class=\"dataframe\">\n",
       "  <thead>\n",
       "    <tr style=\"text-align: right;\">\n",
       "      <th></th>\n",
       "      <th>id</th>\n",
       "      <th>text</th>\n",
       "      <th>category</th>\n",
       "      <th>polarity</th>\n",
       "    </tr>\n",
       "  </thead>\n",
       "  <tbody>\n",
       "    <tr>\n",
       "      <th>560</th>\n",
       "      <td>Z#6:3</td>\n",
       "      <td>If you?셱e planning to come here, make sure tha...</td>\n",
       "      <td>ambience</td>\n",
       "      <td>1</td>\n",
       "    </tr>\n",
       "    <tr>\n",
       "      <th>561</th>\n",
       "      <td>2146</td>\n",
       "      <td>The staff makes you feel at home, the food is ...</td>\n",
       "      <td>ambience</td>\n",
       "      <td>1</td>\n",
       "    </tr>\n",
       "    <tr>\n",
       "      <th>562</th>\n",
       "      <td>3367</td>\n",
       "      <td>Best of all is the warm vibe, the owner is sup...</td>\n",
       "      <td>ambience</td>\n",
       "      <td>1</td>\n",
       "    </tr>\n",
       "    <tr>\n",
       "      <th>563</th>\n",
       "      <td>en_ParkChaletGardenRestaurant_477778171:11</td>\n",
       "      <td>Sunday afternoons there is a band playing and ...</td>\n",
       "      <td>ambience</td>\n",
       "      <td>1</td>\n",
       "    </tr>\n",
       "    <tr>\n",
       "      <th>564</th>\n",
       "      <td>1901</td>\n",
       "      <td>Great vibe, lots of people.</td>\n",
       "      <td>ambience</td>\n",
       "      <td>1</td>\n",
       "    </tr>\n",
       "  </tbody>\n",
       "</table>\n",
       "</div>"
      ],
      "text/plain": [
       "                                             id  \\\n",
       "560                                       Z#6:3   \n",
       "561                                        2146   \n",
       "562                                        3367   \n",
       "563  en_ParkChaletGardenRestaurant_477778171:11   \n",
       "564                                        1901   \n",
       "\n",
       "                                                  text  category  polarity  \n",
       "560  If you?셱e planning to come here, make sure tha...  ambience         1  \n",
       "561  The staff makes you feel at home, the food is ...  ambience         1  \n",
       "562  Best of all is the warm vibe, the owner is sup...  ambience         1  \n",
       "563  Sunday afternoons there is a band playing and ...  ambience         1  \n",
       "564                        Great vibe, lots of people.  ambience         1  "
      ]
     },
     "execution_count": 16,
     "metadata": {},
     "output_type": "execute_result"
    }
   ],
   "source": [
    "df.tail(5)"
   ]
  },
  {
   "cell_type": "code",
   "execution_count": 17,
   "id": "3be33a3a",
   "metadata": {},
   "outputs": [
    {
     "data": {
      "text/plain": [
       "id          object\n",
       "text        object\n",
       "category    object\n",
       "polarity     int64\n",
       "dtype: object"
      ]
     },
     "execution_count": 17,
     "metadata": {},
     "output_type": "execute_result"
    }
   ],
   "source": [
    "df.dtypes"
   ]
  },
  {
   "cell_type": "code",
   "execution_count": 18,
   "id": "5d46b615",
   "metadata": {},
   "outputs": [
    {
     "data": {
      "image/png": "[encoded data removed]",
      "text/plain": [
       "<Figure size 640x480 with 1 Axes>"
      ]
     },
     "metadata": {},
     "output_type": "display_data"
    }
   ],
   "source": [
    "# review data의 label 분포\n",
    "sns.set_style('darkgrid')\n",
    "\n",
    "# Create a count plot of the \"Liked\" column\n",
    "sns.countplot(x='polarity', data=df)\n",
    "\n",
    "# Set the title of the plot\n",
    "plt.title('Count of Reviews by Liked Status')\n",
    "\n",
    "# Set the label for the x-axis\n",
    "plt.xlabel('label')\n",
    "\n",
    "# Set the label for the y-axis\n",
    "plt.ylabel('Count')\n",
    "\n",
    "# Show the plot\n",
    "plt.show()"
   ]
  },
  {
   "cell_type": "code",
   "execution_count": 19,
   "id": "6d3bec3a",
   "metadata": {},
   "outputs": [
    {
     "data": {
      "image/png": "[encoded data removed]",
      "text/plain": [
       "<Figure size 600x300 with 2 Axes>"
      ]
     },
     "metadata": {},
     "output_type": "display_data"
    }
   ],
   "source": [
    "# review data의 길이 분포 및 통계\n",
    "df_new=df\n",
    "df_new['length'] = df['text'].apply(len)\n",
    "\n",
    "# Create a FacetGrid object with 'Liked' as the column to be used for separating the data\n",
    "# FacetGrid is a grid of subplots that displays the same relationship between different subsets of your data.\n",
    "g = sns.FacetGrid(df, col='polarity')\n",
    "\n",
    "# Use the FacetGrid object to plot a histogram of the 'Length' column for each value of 'Liked'\n",
    "g.map(plt.hist, 'length');"
   ]
  },
  {
   "cell_type": "code",
   "execution_count": 20,
   "id": "e2379480",
   "metadata": {},
   "outputs": [
    {
     "data": {
      "text/plain": [
       "count    565.000000\n",
       "mean      86.423009\n",
       "std       44.969412\n",
       "min       16.000000\n",
       "25%       53.000000\n",
       "50%       80.000000\n",
       "75%      110.000000\n",
       "max      370.000000\n",
       "Name: length, dtype: float64"
      ]
     },
     "execution_count": 20,
     "metadata": {},
     "output_type": "execute_result"
    }
   ],
   "source": [
    "df_new.length.describe()"
   ]
  },
  {
   "cell_type": "code",
   "execution_count": 21,
   "id": "942b2d64",
   "metadata": {},
   "outputs": [],
   "source": [
    "text = df.text.values\n",
    "labels = df.polarity.values"
   ]
  },
  {
   "cell_type": "code",
   "execution_count": 22,
   "id": "045124c4",
   "metadata": {},
   "outputs": [],
   "source": [
    "# 전처리\n",
    "tokenizer = BertTokenizer.from_pretrained(\n",
    "    'bert-base-uncased',\n",
    "    do_lower_case = True\n",
    "    )"
   ]
  },
  {
   "cell_type": "code",
   "execution_count": 23,
   "id": "4dbce4fe",
   "metadata": {},
   "outputs": [],
   "source": [
    "MAX_LENGTH=370\n",
    "token_id = []\n",
    "attention_masks = []\n",
    "\n",
    "def preprocessing(input_text, tokenizer):\n",
    "  '''\n",
    "  Returns <class transformers.tokenization_utils_base.BatchEncoding> with the following fields:\n",
    "    - input_ids: list of token ids\n",
    "    - token_type_ids: list of token type ids\n",
    "    - attention_mask: list of indices (0,1) specifying which tokens should considered by the model (return_attention_mask = True).\n",
    "  '''\n",
    "  return tokenizer.encode_plus(\n",
    "                        input_text,\n",
    "                        add_special_tokens = True,\n",
    "                        max_length = MAX_LENGTH,\n",
    "                        pad_to_max_length = True,\n",
    "                        return_attention_mask = True,\n",
    "                        return_tensors = 'pt',\n",
    "                        truncation=True\n",
    "                   )\n",
    "\n",
    "\n",
    "for sample in text:\n",
    "  encoding_dict = preprocessing(sample, tokenizer)\n",
    "\n",
    "  # token_id 리스트 추출\n",
    "  token_id.append(encoding_dict['input_ids']) \n",
    "  # attention_mask 리스트 추출\n",
    "  attention_masks.append(encoding_dict['attention_mask'])\n",
    "\n",
    "\n",
    "# 리스트를 텐서로\n",
    "token_id = torch.cat(token_id, dim = 0)\n",
    "attention_masks = torch.cat(attention_masks, dim = 0)\n",
    "labels = torch.tensor(labels)"
   ]
  },
  {
   "cell_type": "code",
   "execution_count": 24,
   "id": "8e82b4c2",
   "metadata": {},
   "outputs": [
    {
     "name": "stdout",
     "output_type": "stream",
     "text": [
      "train: 452\n",
      "validation: 113\n"
     ]
    }
   ],
   "source": [
    "VAL_RATIO= 0.2\n",
    "batch_size = 8 # 16 or 32 추천이라고 한다\n",
    "\n",
    "# Indices of the train and validation splits stratified by labels\n",
    "train_idx, val_idx = train_test_split(\n",
    "    np.arange(len(labels)),\n",
    "    test_size = VAL_RATIO,\n",
    "    shuffle = True,\n",
    "    stratify = labels)\n",
    "\n",
    "# Train and validation sets\n",
    "train_set = TensorDataset(token_id[train_idx], \n",
    "                          attention_masks[train_idx], \n",
    "                          labels[train_idx])\n",
    "\n",
    "val_set = TensorDataset(token_id[val_idx], \n",
    "                        attention_masks[val_idx], \n",
    "                        labels[val_idx])\n",
    "\n",
    "# Prepare DataLoader\n",
    "train_dataloader = DataLoader(\n",
    "            train_set,\n",
    "            sampler = RandomSampler(train_set),\n",
    "            batch_size = batch_size\n",
    "        )\n",
    "\n",
    "validation_dataloader = DataLoader(\n",
    "            val_set,\n",
    "            sampler = SequentialSampler(val_set),\n",
    "            batch_size = batch_size\n",
    "        )\n",
    "\n",
    "\n",
    "print(\"train: {}\".format(len(train_idx)))\n",
    "print(\"validation: {}\".format(len(val_idx)))\n"
   ]
  },
  {
   "cell_type": "code",
   "execution_count": 25,
   "id": "bf198260",
   "metadata": {},
   "outputs": [],
   "source": [
    "\n",
    "def b_tp(preds, labels):\n",
    "  '''Returns True Positives (TP): count of correct predictions of actual class 1'''\n",
    "  return sum([preds == labels and preds == 1 for preds, labels in zip(preds, labels)])\n",
    "\n",
    "def b_fp(preds, labels):\n",
    "  '''Returns False Positives (FP): count of wrong predictions of actual class 1'''\n",
    "  return sum([preds != labels and preds == 1 for preds, labels in zip(preds, labels)])\n",
    "\n",
    "def b_tn(preds, labels):\n",
    "  '''Returns True Negatives (TN): count of correct predictions of actual class 0'''\n",
    "  return sum([preds == labels and preds == 0 for preds, labels in zip(preds, labels)])\n",
    "\n",
    "def b_fn(preds, labels):\n",
    "  '''Returns False Negatives (FN): count of wrong predictions of actual class 0'''\n",
    "  return sum([preds != labels and preds == 0 for preds, labels in zip(preds, labels)])\n",
    "\n",
    "def b_metrics(preds, labels):\n",
    "  '''\n",
    "  Returns the following metrics:\n",
    "    - accuracy    = (TP + TN) / N\n",
    "    - precision   = TP / (TP + FP)\n",
    "    - recall      = TP / (TP + FN)\n",
    "    - specificity = TN / (TN + FP)\n",
    "  '''\n",
    "  preds = np.argmax(preds, axis = 1).flatten()\n",
    "  labels = labels.flatten()\n",
    "  tp = b_tp(preds, labels)\n",
    "  tn = b_tn(preds, labels)\n",
    "  fp = b_fp(preds, labels)\n",
    "  fn = b_fn(preds, labels)\n",
    "  b_accuracy = (tp + tn) / len(labels)\n",
    "  b_precision = tp / (tp + fp) if (tp + fp) > 0 else 'nan'\n",
    "  b_recall = tp / (tp + fn) if (tp + fn) > 0 else 'nan'\n",
    "  b_specificity = tn / (tn + fp) if (tn + fp) > 0 else 'nan'\n",
    "  return b_accuracy, b_precision, b_recall, b_specificity"
   ]
  },
  {
   "cell_type": "code",
   "execution_count": 26,
   "id": "40e94929",
   "metadata": {},
   "outputs": [
    {
     "name": "stderr",
     "output_type": "stream",
     "text": [
      "Some weights of the model checkpoint at bert-base-uncased were not used when initializing BertForSequenceClassification: ['cls.predictions.bias', 'cls.predictions.transform.LayerNorm.weight', 'cls.seq_relationship.weight', 'cls.predictions.transform.LayerNorm.bias', 'cls.predictions.decoder.weight', 'cls.seq_relationship.bias', 'cls.predictions.transform.dense.weight', 'cls.predictions.transform.dense.bias']\n",
      "- This IS expected if you are initializing BertForSequenceClassification from the checkpoint of a model trained on another task or with another architecture (e.g. initializing a BertForSequenceClassification model from a BertForPreTraining model).\n",
      "- This IS NOT expected if you are initializing BertForSequenceClassification from the checkpoint of a model that you expect to be exactly identical (initializing a BertForSequenceClassification model from a BertForSequenceClassification model).\n",
      "Some weights of BertForSequenceClassification were not initialized from the model checkpoint at bert-base-uncased and are newly initialized: ['classifier.bias', 'classifier.weight']\n",
      "You should probably TRAIN this model on a down-stream task to be able to use it for predictions and inference.\n"
     ]
    },
    {
     "data": {
      "text/plain": [
       "BertForSequenceClassification(\n",
       "  (bert): BertModel(\n",
       "    (embeddings): BertEmbeddings(\n",
       "      (word_embeddings): Embedding(30522, 768, padding_idx=0)\n",
       "      (position_embeddings): Embedding(512, 768)\n",
       "      (token_type_embeddings): Embedding(2, 768)\n",
       "      (LayerNorm): LayerNorm((768,), eps=1e-12, elementwise_affine=True)\n",
       "      (dropout): Dropout(p=0.1, inplace=False)\n",
       "    )\n",
       "    (encoder): BertEncoder(\n",
       "      (layer): ModuleList(\n",
       "        (0-11): 12 x BertLayer(\n",
       "          (attention): BertAttention(\n",
       "            (self): BertSelfAttention(\n",
       "              (query): Linear(in_features=768, out_features=768, bias=True)\n",
       "              (key): Linear(in_features=768, out_features=768, bias=True)\n",
       "              (value): Linear(in_features=768, out_features=768, bias=True)\n",
       "              (dropout): Dropout(p=0.1, inplace=False)\n",
       "            )\n",
       "            (output): BertSelfOutput(\n",
       "              (dense): Linear(in_features=768, out_features=768, bias=True)\n",
       "              (LayerNorm): LayerNorm((768,), eps=1e-12, elementwise_affine=True)\n",
       "              (dropout): Dropout(p=0.1, inplace=False)\n",
       "            )\n",
       "          )\n",
       "          (intermediate): BertIntermediate(\n",
       "            (dense): Linear(in_features=768, out_features=3072, bias=True)\n",
       "            (intermediate_act_fn): GELUActivation()\n",
       "          )\n",
       "          (output): BertOutput(\n",
       "            (dense): Linear(in_features=3072, out_features=768, bias=True)\n",
       "            (LayerNorm): LayerNorm((768,), eps=1e-12, elementwise_affine=True)\n",
       "            (dropout): Dropout(p=0.1, inplace=False)\n",
       "          )\n",
       "        )\n",
       "      )\n",
       "    )\n",
       "    (pooler): BertPooler(\n",
       "      (dense): Linear(in_features=768, out_features=768, bias=True)\n",
       "      (activation): Tanh()\n",
       "    )\n",
       "  )\n",
       "  (dropout): Dropout(p=0.1, inplace=False)\n",
       "  (classifier): Linear(in_features=768, out_features=2, bias=True)\n",
       ")"
      ]
     },
     "execution_count": 26,
     "metadata": {},
     "output_type": "execute_result"
    }
   ],
   "source": [
    "# BERT 모델 불러오기\n",
    "model = BertForSequenceClassification.from_pretrained(\n",
    "    'bert-base-uncased',\n",
    "    num_labels = 2,\n",
    "    output_attentions = False,\n",
    "    output_hidden_states = False,\n",
    ")\n",
    "\n",
    "\n",
    "optimizer = torch.optim.AdamW(model.parameters(), \n",
    "                              lr = 5e-5, # learning rate 설정\n",
    "                              eps = 1e-08\n",
    "                              )\n",
    "\n",
    "model.cuda()"
   ]
  },
  {
   "cell_type": "code",
   "execution_count": 27,
   "id": "0de114df",
   "metadata": {},
   "outputs": [
    {
     "name": "stderr",
     "output_type": "stream",
     "text": [
      "Epoch:  10%|███████▌                                                                    | 1/10 [00:12<01:56, 12.89s/it]"
     ]
    },
    {
     "name": "stdout",
     "output_type": "stream",
     "text": [
      "\n",
      "\t - Train loss: 0.4327\n",
      "\t - Validation Accuracy: 0.9583\n"
     ]
    },
    {
     "name": "stderr",
     "output_type": "stream",
     "text": [
      "\r",
      "Epoch:  20%|███████████████▏                                                            | 2/10 [00:22<01:26, 10.81s/it]"
     ]
    },
    {
     "name": "stdout",
     "output_type": "stream",
     "text": [
      "\n",
      "\t - Train loss: 0.1697\n",
      "\t - Validation Accuracy: 0.9000\n"
     ]
    },
    {
     "name": "stderr",
     "output_type": "stream",
     "text": [
      "\r",
      "Epoch:  30%|██████████████████████▊                                                     | 3/10 [00:31<01:11, 10.18s/it]"
     ]
    },
    {
     "name": "stdout",
     "output_type": "stream",
     "text": [
      "\n",
      "\t - Train loss: 0.1178\n",
      "\t - Validation Accuracy: 0.9333\n"
     ]
    },
    {
     "name": "stderr",
     "output_type": "stream",
     "text": [
      "\r",
      "Epoch:  40%|██████████████████████████████▍                                             | 4/10 [00:41<00:59,  9.86s/it]"
     ]
    },
    {
     "name": "stdout",
     "output_type": "stream",
     "text": [
      "\n",
      "\t - Train loss: 0.0349\n",
      "\t - Validation Accuracy: 0.9250\n"
     ]
    },
    {
     "name": "stderr",
     "output_type": "stream",
     "text": [
      "\r",
      "Epoch:  50%|██████████████████████████████████████                                      | 5/10 [00:50<00:48,  9.72s/it]"
     ]
    },
    {
     "name": "stdout",
     "output_type": "stream",
     "text": [
      "\n",
      "\t - Train loss: 0.0029\n",
      "\t - Validation Accuracy: 0.9417\n"
     ]
    },
    {
     "name": "stderr",
     "output_type": "stream",
     "text": [
      "\r",
      "Epoch:  60%|█████████████████████████████████████████████▌                              | 6/10 [01:00<00:38,  9.64s/it]"
     ]
    },
    {
     "name": "stdout",
     "output_type": "stream",
     "text": [
      "\n",
      "\t - Train loss: 0.0008\n",
      "\t - Validation Accuracy: 0.9417\n"
     ]
    },
    {
     "name": "stderr",
     "output_type": "stream",
     "text": [
      "\r",
      "Epoch:  70%|█████████████████████████████████████████████████████▏                      | 7/10 [01:09<00:28,  9.58s/it]"
     ]
    },
    {
     "name": "stdout",
     "output_type": "stream",
     "text": [
      "\n",
      "\t - Train loss: 0.0006\n",
      "\t - Validation Accuracy: 0.9417\n"
     ]
    },
    {
     "name": "stderr",
     "output_type": "stream",
     "text": [
      "\r",
      "Epoch:  80%|████████████████████████████████████████████████████████████▊               | 8/10 [01:18<00:19,  9.54s/it]"
     ]
    },
    {
     "name": "stdout",
     "output_type": "stream",
     "text": [
      "\n",
      "\t - Train loss: 0.0263\n",
      "\t - Validation Accuracy: 0.9417\n"
     ]
    },
    {
     "name": "stderr",
     "output_type": "stream",
     "text": [
      "\r",
      "Epoch:  90%|████████████████████████████████████████████████████████████████████▍       | 9/10 [01:28<00:09,  9.52s/it]"
     ]
    },
    {
     "name": "stdout",
     "output_type": "stream",
     "text": [
      "\n",
      "\t - Train loss: 0.0122\n",
      "\t - Validation Accuracy: 0.9167\n"
     ]
    },
    {
     "name": "stderr",
     "output_type": "stream",
     "text": [
      "Epoch: 100%|███████████████████████████████████████████████████████████████████████████| 10/10 [01:37<00:00,  9.78s/it]"
     ]
    },
    {
     "name": "stdout",
     "output_type": "stream",
     "text": [
      "\n",
      "\t - Train loss: 0.0005\n",
      "\t - Validation Accuracy: 0.9083\n"
     ]
    },
    {
     "name": "stderr",
     "output_type": "stream",
     "text": [
      "\n"
     ]
    }
   ],
   "source": [
    "# GPU로 학습하도록 설정\n",
    "device = torch.device('cuda' if torch.cuda.is_available() else 'cpu')\n",
    "\n",
    "# 학습 횟수 설정\n",
    "epochs = 10\n",
    "\n",
    "idx=0\n",
    "epo_list=[]\n",
    "train_loss_list=[]\n",
    "val_accuracy_list=[]\n",
    "\n",
    "for _ in trange(epochs, desc = 'Epoch'):\n",
    "    idx+=1\n",
    "    epo_list.append(idx)\n",
    "\n",
    "    # ========== Training ==========\n",
    "    model.train()\n",
    "    \n",
    "    # Tracking variables\n",
    "    tr_loss = 0\n",
    "    nb_tr_examples, nb_tr_steps = 0, 0\n",
    "\n",
    "    for step, batch in enumerate(train_dataloader):\n",
    "        batch = tuple(t.to(device) for t in batch)\n",
    "        b_input_ids, b_input_mask, b_labels = batch\n",
    "        optimizer.zero_grad()\n",
    "        # Forward pass\n",
    "        train_output = model(b_input_ids, \n",
    "                             token_type_ids = None, \n",
    "                             attention_mask = b_input_mask, \n",
    "                             labels = b_labels)\n",
    "        # Backward pass\n",
    "        train_output.loss.backward()\n",
    "        optimizer.step()\n",
    "        # Update tracking variables\n",
    "        tr_loss += train_output.loss.item()\n",
    "        nb_tr_examples += b_input_ids.size(0)\n",
    "        nb_tr_steps += 1\n",
    "\n",
    "    # ========== Validation ==========\n",
    "    model.eval()\n",
    "\n",
    "    # Tracking variables \n",
    "    val_accuracy = []\n",
    "    val_precision = []\n",
    "    val_recall = []\n",
    "    val_specificity = []\n",
    "\n",
    "    for batch in validation_dataloader:\n",
    "        batch = tuple(t.to(device) for t in batch)\n",
    "        b_input_ids, b_input_mask, b_labels = batch\n",
    "        with torch.no_grad():\n",
    "          # Forward pass\n",
    "          eval_output = model(b_input_ids, \n",
    "                              token_type_ids = None, \n",
    "                              attention_mask = b_input_mask)\n",
    "        logits = eval_output.logits.detach().cpu().numpy()\n",
    "        label_ids = b_labels.to('cpu').numpy()\n",
    "        # Calculate validation metrics\n",
    "        b_accuracy, b_precision, b_recall, b_specificity = b_metrics(logits, label_ids)\n",
    "        val_accuracy.append(b_accuracy)\n",
    "        # Update precision only when (tp + fp) !=0; ignore nan\n",
    "        if b_precision != 'nan': val_precision.append(b_precision)\n",
    "        # Update recall only when (tp + fn) !=0; ignore nan\n",
    "        if b_recall != 'nan': val_recall.append(b_recall)\n",
    "        # Update specificity only when (tn + fp) !=0; ignore nan\n",
    "        if b_specificity != 'nan': val_specificity.append(b_specificity)\n",
    "\n",
    "    print('\\n\\t - Train loss: {:.4f}'.format(tr_loss / nb_tr_steps))\n",
    "    print('\\t - Validation Accuracy: {:.4f}'.format(sum(val_accuracy)/len(val_accuracy)))\n",
    "    val_accuracy_temp=sum(val_accuracy)/len(val_accuracy)\n",
    "    train_loss_list.append(round(tr_loss / nb_tr_steps,4))\n",
    "    val_accuracy_list.append(round(val_accuracy_temp,4))\n",
    "    #print('\\t - Validation Precision: {:.4f}'.format(sum(val_precision)/len(val_precision)) if len(val_precision)>0 else '\\t - Validation Precision: NaN')\n",
    "    #print('\\t - Validation Recall: {:.4f}'.format(sum(val_recall)/len(val_recall)) if len(val_recall)>0 else '\\t - Validation Recall: NaN')\n",
    "    #print('\\t - Validation Specificity: {:.4f}\\n'.format(sum(val_specificity)/len(val_specificity)) if len(val_specificity)>0 else '\\t - Validation Specificity: NaN')\n"
   ]
  },
  {
   "cell_type": "code",
   "execution_count": 28,
   "id": "44645db2",
   "metadata": {},
   "outputs": [
    {
     "data": {
      "image/png": "[encoded data removed]",
      "text/plain": [
       "<Figure size 640x480 with 1 Axes>"
      ]
     },
     "metadata": {},
     "output_type": "display_data"
    }
   ],
   "source": [
    "# train loss 그래프\n",
    "plt.plot(epo_list, train_loss_list)\n",
    "plt.xlabel('epoch')\n",
    "plt.ylabel('train loss')\n",
    "plt.show()"
   ]
  },
  {
   "cell_type": "code",
   "execution_count": 29,
   "id": "83ca5c7b",
   "metadata": {},
   "outputs": [
    {
     "data": {
      "image/png": "[encoded data removed]",
      "text/plain": [
       "<Figure size 640x480 with 1 Axes>"
      ]
     },
     "metadata": {},
     "output_type": "display_data"
    }
   ],
   "source": [
    "plt.plot(epo_list, val_accuracy_list)\n",
    "plt.xlabel('epoch')\n",
    "plt.ylabel('validation accuracy')\n",
    "plt.axis([1,epochs , 0.75, 1])\n",
    "plt.show()"
   ]
  },
  {
   "cell_type": "code",
   "execution_count": 30,
   "id": "624953b3",
   "metadata": {},
   "outputs": [
    {
     "name": "stdout",
     "output_type": "stream",
     "text": [
      "입력 문장: Not reasonable price, but goot atmosphere\n",
      "분류: Positive\n"
     ]
    }
   ],
   "source": [
    "#새로운 리뷰를 분류해보자\n",
    "\n",
    "def test_sentence(sentence):\n",
    "    # 토큰 ID와 attention mask를 위한 리스트\n",
    "    test_ids = []\n",
    "    test_attention_mask = []\n",
    "\n",
    "    # 전처리\n",
    "    encoding = preprocessing(sentence, tokenizer)\n",
    "    test_ids.append(encoding['input_ids'])\n",
    "    test_attention_mask.append(encoding['attention_mask'])\n",
    "    test_ids = torch.cat(test_ids, dim = 0)\n",
    "    test_attention_mask = torch.cat(test_attention_mask, dim = 0)\n",
    "    \n",
    "    # Forward pass, calculate logit predictions\n",
    "    with torch.no_grad():\n",
    "        output = model(test_ids.to(device), token_type_ids = None, attention_mask = test_attention_mask.to(device))\n",
    "\n",
    "    prediction = 'Positive' if np.argmax(output.logits.cpu().numpy()).flatten().item() == 1 else 'Negative'\n",
    "    return prediction\n",
    "    \n",
    "\n",
    "    \n",
    "    \n",
    "new_sentence ='Not reasonable price, but goot atmosphere'\n",
    "# 'It''s good, but the owner is so unkind. Some of the plates didn''t clean properly because there was something on them. But it''s cost-effective.'\n",
    "\n",
    "\n",
    "\n",
    "\n",
    "\n",
    "print('입력 문장:', new_sentence)\n",
    "print('분류:', test_sentence(new_sentence))"
   ]
  },
  {
   "cell_type": "code",
   "execution_count": 31,
   "id": "3fc63445",
   "metadata": {},
   "outputs": [
    {
     "data": {
      "text/html": [
       "<div>\n",
       "<style scoped>\n",
       "    .dataframe tbody tr th:only-of-type {\n",
       "        vertical-align: middle;\n",
       "    }\n",
       "\n",
       "    .dataframe tbody tr th {\n",
       "        vertical-align: top;\n",
       "    }\n",
       "\n",
       "    .dataframe thead th {\n",
       "        text-align: right;\n",
       "    }\n",
       "</style>\n",
       "<table border=\"1\" class=\"dataframe\">\n",
       "  <thead>\n",
       "    <tr style=\"text-align: right;\">\n",
       "      <th></th>\n",
       "      <th>id</th>\n",
       "      <th>text</th>\n",
       "      <th>category</th>\n",
       "      <th>polarity</th>\n",
       "    </tr>\n",
       "  </thead>\n",
       "  <tbody>\n",
       "    <tr>\n",
       "      <th>0</th>\n",
       "      <td>35177381#521555#0</td>\n",
       "      <td>I came to fresh expecting a great meal, and al...</td>\n",
       "      <td>ambience</td>\n",
       "      <td>0</td>\n",
       "    </tr>\n",
       "    <tr>\n",
       "      <th>1</th>\n",
       "      <td>11302357#835238#2</td>\n",
       "      <td>The ambiance was pretty cool, but not worth th...</td>\n",
       "      <td>ambience</td>\n",
       "      <td>0</td>\n",
       "    </tr>\n",
       "    <tr>\n",
       "      <th>2</th>\n",
       "      <td>11302356#1455624#1</td>\n",
       "      <td>The food is top notch, the service is attentiv...</td>\n",
       "      <td>ambience</td>\n",
       "      <td>1</td>\n",
       "    </tr>\n",
       "    <tr>\n",
       "      <th>3</th>\n",
       "      <td>32892130#435512#0</td>\n",
       "      <td>If you're craving some serious indian food and...</td>\n",
       "      <td>ambience</td>\n",
       "      <td>1</td>\n",
       "    </tr>\n",
       "    <tr>\n",
       "      <th>4</th>\n",
       "      <td>11359619#487952#3</td>\n",
       "      <td>it is a hidden delight complete with a quaint ...</td>\n",
       "      <td>ambience</td>\n",
       "      <td>1</td>\n",
       "    </tr>\n",
       "  </tbody>\n",
       "</table>\n",
       "</div>"
      ],
      "text/plain": [
       "                   id                                               text  \\\n",
       "0   35177381#521555#0  I came to fresh expecting a great meal, and al...   \n",
       "1   11302357#835238#2  The ambiance was pretty cool, but not worth th...   \n",
       "2  11302356#1455624#1  The food is top notch, the service is attentiv...   \n",
       "3   32892130#435512#0  If you're craving some serious indian food and...   \n",
       "4   11359619#487952#3  it is a hidden delight complete with a quaint ...   \n",
       "\n",
       "   category  polarity  \n",
       "0  ambience         0  \n",
       "1  ambience         0  \n",
       "2  ambience         1  \n",
       "3  ambience         1  \n",
       "4  ambience         1  "
      ]
     },
     "execution_count": 31,
     "metadata": {},
     "output_type": "execute_result"
    }
   ],
   "source": [
    "#test data 세팅\n",
    "\n",
    "# 내 깃허브 폴더에서 리뷰 데이터 불러와서 dataframe으로 저장\n",
    "test_url='https://raw.githubusercontent.com/Eunjin3395/graduation_project/main/data/ambience_test.csv'\n",
    "df = pd.read_csv(test_url,sep=',', header=0, encoding_errors='ignore')\n",
    "df.head(5)"
   ]
  },
  {
   "cell_type": "code",
   "execution_count": 32,
   "id": "13bb1146",
   "metadata": {},
   "outputs": [
    {
     "name": "stdout",
     "output_type": "stream",
     "text": [
      "=============================== Input 1 ===============================\n",
      "I came to fresh expecting a great meal, and all I got was marginally so-so food served in a restaurant that was just so freezing we couldn't enjoy eating.\n",
      "model result: Negative \n",
      "answer: 0 \n",
      "\n",
      "\u001b[31m=============================== Input 2 ===============================\n",
      "The ambiance was pretty cool, but not worth the hassle.\n",
      "model result: Positive \n",
      "answer: 0 \u001b[0m\n",
      "\n",
      "=============================== Input 3 ===============================\n",
      "The food is top notch, the service is attentive, and the atmosphere is great.\n",
      "model result: Positive \n",
      "answer: 1 \n",
      "\n",
      "=============================== Input 4 ===============================\n",
      "If you're craving some serious indian food and desire a cozy ambiance, this is quite and exquisite choice.\n",
      "model result: Positive \n",
      "answer: 1 \n",
      "\n",
      "=============================== Input 5 ===============================\n",
      "it is a hidden delight complete with a quaint bar and good food.\n",
      "model result: Positive \n",
      "answer: 1 \n",
      "\n",
      "=============================== Input 6 ===============================\n",
      "Tables are close, so you better be comfortable bumping elbows with other patrons.\n",
      "model result: Negative \n",
      "answer: 0 \n",
      "\n",
      "=============================== Input 7 ===============================\n",
      "There was a heat problem to boot, so it was about 40 degrees in the restaurant -- we had to request to uncheck our coats!\n",
      "model result: Negative \n",
      "answer: 0 \n",
      "\n",
      "=============================== Input 8 ===============================\n",
      "A mix of students and area residents crowd into this narrow, barely there space for its quick, tasty treats at dirt-cheap prices.\n",
      "model result: Negative \n",
      "answer: 0 \n",
      "\n",
      "=============================== Input 9 ===============================\n",
      "A nice space, as long as it doesn't get too crowded and a singleminded devotion to its chosen cuisine make Mare a great choice for seafood lovers.\n",
      "model result: Positive \n",
      "answer: 1 \n",
      "\n",
      "=============================== Input 10 ===============================\n",
      "this is still one of my most favorite restaurants in the area the food is inexpensive but very good (kimono shrimp special was excellent) and has a great atmosphere.\n",
      "model result: Positive \n",
      "answer: 1 \n",
      "\n",
      "=============================== Input 11 ===============================\n",
      "Can be a bit busy around peak times because of the size.\n",
      "model result: Negative \n",
      "answer: 0 \n",
      "\n",
      "=============================== Input 12 ===============================\n",
      "The service, however, is a peg or two below the quality of food (horrible bartenders), and the clientele, for the most part, are rowdy, loud-mouthed commuters (this could explain the bad attitudes from the staff) getting loaded for an AC/DC concert or a Knicks game.\n",
      "model result: Negative \n",
      "answer: 0 \n",
      "\n",
      "=============================== Input 13 ===============================\n",
      "I can't stand this dungeon.\n",
      "model result: Negative \n",
      "answer: 0 \n",
      "\n",
      "=============================== Input 14 ===============================\n",
      "the atmosphere is very nice, and a welcome escape from the rest of the SI mall.\n",
      "model result: Positive \n",
      "answer: 1 \n",
      "\n",
      "=============================== Input 15 ===============================\n",
      "While the ambiance and atmosphere were great, the food and service could have been a lot better.\n",
      "model result: Positive \n",
      "answer: 1 \n",
      "\n",
      "=============================== Input 16 ===============================\n",
      "The music which is sometimes a little too heavy for my taste.\n",
      "model result: Negative \n",
      "answer: 0 \n",
      "\n",
      "=============================== Input 17 ===============================\n",
      "The atmosphere is warm, comfortable, artsy and sexy.\n",
      "model result: Positive \n",
      "answer: 1 \n",
      "\n",
      "\u001b[31m=============================== Input 18 ===============================\n",
      "Atmosphere is a bore.\n",
      "model result: Positive \n",
      "answer: 0 \u001b[0m\n",
      "\n",
      "=============================== Input 19 ===============================\n",
      "The selection of food is excellent (I'm not used to having much choice at restaurants), and the atmosphere is great.\n",
      "model result: Positive \n",
      "answer: 1 \n",
      "\n",
      "=============================== Input 20 ===============================\n",
      "At peak times, the restaurant is overcrowded and tables are uncomfortably close.\n",
      "model result: Negative \n",
      "answer: 0 \n",
      "\n",
      "=============================== Input 21 ===============================\n",
      "The design is very intimate and romantic.\n",
      "model result: Positive \n",
      "answer: 1 \n",
      "\n",
      "=============================== Input 22 ===============================\n",
      "With the theater 2 blocks away we had a delicious meal in a beautiful room.\n",
      "model result: Positive \n",
      "answer: 1 \n",
      "\n",
      "\u001b[31m=============================== Input 23 ===============================\n",
      "While it was large and a bit noisy, the drinks were fantastic, and the food was superb.\n",
      "model result: Positive \n",
      "answer: 0 \u001b[0m\n",
      "\n",
      "=============================== Input 24 ===============================\n",
      "Certainly not the best sushi in New York, however, it is always fresh, and the place is very clean, sterile.\n",
      "model result: Positive \n",
      "answer: 1 \n",
      "\n",
      "=============================== Input 25 ===============================\n",
      "It gets very crowded so I would suggest that you get their early.\n",
      "model result: Negative \n",
      "answer: 0 \n",
      "\n",
      "=============================== Input 26 ===============================\n",
      "The lack of AC and the fact that there are a million swarming bodies (although everyone is polite and no one is pushing) is a slight turn off.\n",
      "model result: Negative \n",
      "answer: 0 \n",
      "\n",
      "=============================== Input 27 ===============================\n",
      "Stay away if you're claustrophobic\n",
      "model result: Negative \n",
      "answer: 0 \n",
      "\n",
      "=============================== Input 28 ===============================\n",
      "The ambience is also more laid-back and relaxed.\n",
      "model result: Positive \n",
      "answer: 1 \n",
      "\n",
      "=============================== Input 29 ===============================\n",
      "It was pleasantly uncrowded, the service was delightful, the garden adorable, the food (from appetizers to entrees) was delectable.\n",
      "model result: Positive \n",
      "answer: 1 \n",
      "\n",
      "=============================== Input 30 ===============================\n",
      "The outdoor atmosphere of sitting on the sidewalk watching the world go by 50 feet away on 6th avenue on a cool evening was wonderful.\n",
      "model result: Positive \n",
      "answer: 1 \n",
      "\n",
      "=============================== Input 31 ===============================\n",
      "The food is surprisingly good, and the decor is nice.\n",
      "model result: Positive \n",
      "answer: 1 \n",
      "\n",
      "=============================== Input 32 ===============================\n",
      "After dinner, take your date to the HUGE dance floor, probably one of the biggest you'll see in NY.\n",
      "model result: Positive \n",
      "answer: 1 \n",
      "\n",
      "=============================== Input 33 ===============================\n",
      "Although somewhat loud, the noise was minimally intrusive.\n",
      "model result: Negative \n",
      "answer: 0 \n",
      "\n",
      "=============================== Input 34 ===============================\n",
      "The food is usually good but it certainly isn't a relaxing place to go.\n",
      "model result: Negative \n",
      "answer: 0 \n",
      "\n",
      "=============================== Input 35 ===============================\n",
      "Great food, great waitstaff, great atmosphere, and best of all GREAT beer!\n",
      "model result: Positive \n",
      "answer: 1 \n",
      "\n",
      "=============================== Input 36 ===============================\n",
      "The unattractive lighting made me want to gag, the food was overpriced, there was the most awful disco pop duo performing-and my escargot looked like it might crawl off the plate.\n",
      "model result: Negative \n",
      "answer: 0 \n",
      "\n",
      "=============================== Input 37 ===============================\n",
      "they really provide a relaxing, laid-back atmosphere.\n",
      "model result: Positive \n",
      "answer: 1 \n",
      "\n",
      "=============================== Input 38 ===============================\n",
      "We spent so much time getting elbowed around while we waited we left.\n",
      "model result: Negative \n",
      "answer: 0 \n",
      "\n",
      "\u001b[31m=============================== Input 39 ===============================\n",
      "If your looking for nasty high priced food with a dash of ghetto scenery cheap BX A$$ this is the place to be!!\n",
      "model result: Positive \n",
      "answer: 0 \u001b[0m\n",
      "\n",
      "=============================== Input 40 ===============================\n",
      "The folding chair I was seated at was uncomfortable.\n",
      "model result: Negative \n",
      "answer: 0 \n",
      "\n",
      "\u001b[31m=============================== Input 41 ===============================\n",
      "It gets crowded at lunchtime but there are lots of seats in back and everyone who works there is so nice.\n",
      "model result: Positive \n",
      "answer: 0 \u001b[0m\n",
      "\n",
      "=============================== Input 42 ===============================\n",
      "The food was very good, a great deal, and the place its self was great.\n",
      "model result: Positive \n",
      "answer: 1 \n",
      "\n",
      "\u001b[31m=============================== Input 43 ===============================\n",
      "Cool atmosphere but such a let down.\n",
      "model result: Positive \n",
      "answer: 0 \u001b[0m\n",
      "\n",
      "=============================== Input 44 ===============================\n",
      "Now it's so crowded and loud you can't even talk to the person next to you.\n",
      "model result: Negative \n",
      "answer: 0 \n",
      "\n",
      "\u001b[31m=============================== Input 45 ===============================\n",
      "Make more tables- perhaps a rooftop bar?\n",
      "model result: Positive \n",
      "answer: 0 \u001b[0m\n",
      "\n",
      "=============================== Input 46 ===============================\n",
      "Once we sailed, the top-notch food and live entertainment sold us on a unforgettable evening.\n",
      "model result: Positive \n",
      "answer: 1 \n",
      "\n",
      "test accuracy: 0.8478\n"
     ]
    }
   ],
   "source": [
    "count=0\n",
    "\n",
    "test_text = df.text.values\n",
    "test_labels = df.polarity.values\n",
    "\n",
    "for i in range(len(test_labels)):\n",
    "    t = df.iloc[i].text\n",
    "    color_s='\\033[31m' \n",
    "    color_e='\\033[0m'\n",
    "    \n",
    "    prediction=test_sentence(t)\n",
    "    if(prediction==\"Negative\"):\n",
    "        result=0\n",
    "    else:\n",
    "        result=1\n",
    "        \n",
    "    if(result==df.iloc[i].polarity):\n",
    "        count+=1     \n",
    "        color_s=''\n",
    "        color_e=''\n",
    "    print(color_s+\"=============================== Input {} ===============================\".format(i+1))\n",
    "    print(t)\n",
    "    print(\"model result:\",prediction,\"\\nanswer:\", df.iloc[i].polarity,color_e)\n",
    "    print(\"\")\n",
    "\n",
    "\n",
    "print(\"test accuracy: {:.4f}\".format(count/len(test_labels)))\n",
    "    "
   ]
  },
  {
   "cell_type": "code",
   "execution_count": null,
   "id": "21cf9bff",
   "metadata": {},
   "outputs": [],
   "source": []
  }
 ],
 "metadata": {
  "kernelspec": {
   "display_name": "tensorflow",
   "language": "python",
   "name": "tensorflow"
  },
  "language_info": {
   "codemirror_mode": {
    "name": "ipython",
    "version": 3
   },
   "file_extension": ".py",
   "mimetype": "text/x-python",
   "name": "python",
   "nbconvert_exporter": "python",
   "pygments_lexer": "ipython3",
   "version": "3.9.16"
  }
 },
 "nbformat": 4,
 "nbformat_minor": 5
}
