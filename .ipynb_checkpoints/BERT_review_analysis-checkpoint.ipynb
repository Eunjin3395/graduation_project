{
 "cells": [
  {
   "cell_type": "code",
   "execution_count": 9,
   "id": "60b5ab92",
   "metadata": {
    "scrolled": true
   },
   "outputs": [
    {
     "name": "stdout",
     "output_type": "stream",
     "text": [
      "Requirement already satisfied: import_ipynb in c:\\users\\kgsa20\\anaconda3\\envs\\tensorflow\\lib\\site-packages (0.1.4)\n",
      "Requirement already satisfied: IPython in c:\\users\\kgsa20\\anaconda3\\envs\\tensorflow\\lib\\site-packages (from import_ipynb) (8.11.0)\n",
      "Requirement already satisfied: nbformat in c:\\users\\kgsa20\\anaconda3\\envs\\tensorflow\\lib\\site-packages (from import_ipynb) (5.8.0)\n",
      "Requirement already satisfied: colorama in c:\\users\\kgsa20\\anaconda3\\envs\\tensorflow\\lib\\site-packages (from IPython->import_ipynb) (0.4.6)\n",
      "Requirement already satisfied: backcall in c:\\users\\kgsa20\\anaconda3\\envs\\tensorflow\\lib\\site-packages (from IPython->import_ipynb) (0.2.0)\n",
      "Requirement already satisfied: traitlets>=5 in c:\\users\\kgsa20\\anaconda3\\envs\\tensorflow\\lib\\site-packages (from IPython->import_ipynb) (5.9.0)\n",
      "Requirement already satisfied: jedi>=0.16 in c:\\users\\kgsa20\\anaconda3\\envs\\tensorflow\\lib\\site-packages (from IPython->import_ipynb) (0.18.2)\n",
      "Requirement already satisfied: pygments>=2.4.0 in c:\\users\\kgsa20\\anaconda3\\envs\\tensorflow\\lib\\site-packages (from IPython->import_ipynb) (2.14.0)\n",
      "Requirement already satisfied: stack-data in c:\\users\\kgsa20\\anaconda3\\envs\\tensorflow\\lib\\site-packages (from IPython->import_ipynb) (0.6.2)\n",
      "Requirement already satisfied: decorator in c:\\users\\kgsa20\\anaconda3\\envs\\tensorflow\\lib\\site-packages (from IPython->import_ipynb) (5.1.1)\n",
      "Requirement already satisfied: pickleshare in c:\\users\\kgsa20\\anaconda3\\envs\\tensorflow\\lib\\site-packages (from IPython->import_ipynb) (0.7.5)\n",
      "Requirement already satisfied: prompt-toolkit!=3.0.37,<3.1.0,>=3.0.30 in c:\\users\\kgsa20\\anaconda3\\envs\\tensorflow\\lib\\site-packages (from IPython->import_ipynb) (3.0.38)\n",
      "Requirement already satisfied: matplotlib-inline in c:\\users\\kgsa20\\anaconda3\\envs\\tensorflow\\lib\\site-packages (from IPython->import_ipynb) (0.1.6)\n",
      "Requirement already satisfied: jsonschema>=2.6 in c:\\users\\kgsa20\\anaconda3\\envs\\tensorflow\\lib\\site-packages (from nbformat->import_ipynb) (4.17.3)\n",
      "Requirement already satisfied: fastjsonschema in c:\\users\\kgsa20\\anaconda3\\envs\\tensorflow\\lib\\site-packages (from nbformat->import_ipynb) (2.16.3)\n",
      "Requirement already satisfied: jupyter-core in c:\\users\\kgsa20\\anaconda3\\envs\\tensorflow\\lib\\site-packages (from nbformat->import_ipynb) (5.3.0)\n",
      "Requirement already satisfied: parso<0.9.0,>=0.8.0 in c:\\users\\kgsa20\\anaconda3\\envs\\tensorflow\\lib\\site-packages (from jedi>=0.16->IPython->import_ipynb) (0.8.3)\n",
      "Requirement already satisfied: pyrsistent!=0.17.0,!=0.17.1,!=0.17.2,>=0.14.0 in c:\\users\\kgsa20\\anaconda3\\envs\\tensorflow\\lib\\site-packages (from jsonschema>=2.6->nbformat->import_ipynb) (0.19.3)\n",
      "Requirement already satisfied: attrs>=17.4.0 in c:\\users\\kgsa20\\anaconda3\\envs\\tensorflow\\lib\\site-packages (from jsonschema>=2.6->nbformat->import_ipynb) (22.1.0)\n",
      "Requirement already satisfied: wcwidth in c:\\users\\kgsa20\\anaconda3\\envs\\tensorflow\\lib\\site-packages (from prompt-toolkit!=3.0.37,<3.1.0,>=3.0.30->IPython->import_ipynb) (0.2.6)\n",
      "Requirement already satisfied: pywin32>=300 in c:\\users\\kgsa20\\anaconda3\\envs\\tensorflow\\lib\\site-packages (from jupyter-core->nbformat->import_ipynb) (306)\n",
      "Requirement already satisfied: platformdirs>=2.5 in c:\\users\\kgsa20\\anaconda3\\envs\\tensorflow\\lib\\site-packages (from jupyter-core->nbformat->import_ipynb) (3.2.0)\n",
      "Requirement already satisfied: asttokens>=2.1.0 in c:\\users\\kgsa20\\anaconda3\\envs\\tensorflow\\lib\\site-packages (from stack-data->IPython->import_ipynb) (2.2.1)\n",
      "Requirement already satisfied: executing>=1.2.0 in c:\\users\\kgsa20\\anaconda3\\envs\\tensorflow\\lib\\site-packages (from stack-data->IPython->import_ipynb) (1.2.0)\n",
      "Requirement already satisfied: pure-eval in c:\\users\\kgsa20\\anaconda3\\envs\\tensorflow\\lib\\site-packages (from stack-data->IPython->import_ipynb) (0.2.2)\n",
      "Requirement already satisfied: six in c:\\users\\kgsa20\\anaconda3\\envs\\tensorflow\\lib\\site-packages (from asttokens>=2.1.0->stack-data->IPython->import_ipynb) (1.16.0)\n"
     ]
    }
   ],
   "source": [
    "!pip install import_ipynb\n"
   ]
  },
  {
   "cell_type": "code",
   "execution_count": 4,
   "id": "e11e1689",
   "metadata": {
    "scrolled": true
   },
   "outputs": [],
   "source": [
    "from sklearn.model_selection import train_test_split\n",
    "\n",
    "import numpy as np\n",
    "import pandas as pd\n",
    "\n",
    "from tabulate import tabulate\n",
    "from tqdm import trange\n",
    "import random\n",
    "import seaborn as sns\n",
    "import matplotlib.pyplot as plt"
   ]
  },
  {
   "cell_type": "code",
   "execution_count": null,
   "id": "72a0064a",
   "metadata": {},
   "outputs": [],
   "source": [
    "url='https://raw.githubusercontent.com/Eunjin3395/graduation_project/main/data/food_total.csv'\n",
    "df = pd.read_csv(url,sep=',', header=0, encoding_errors='ignore')\n",
    "df.head(5)"
   ]
  },
  {
   "cell_type": "code",
   "execution_count": null,
   "id": "cc4cc85d",
   "metadata": {},
   "outputs": [],
   "source": [
    "sum(1,2)"
   ]
  },
  {
   "cell_type": "code",
   "execution_count": null,
   "id": "889962bf",
   "metadata": {},
   "outputs": [],
   "source": []
  }
 ],
 "metadata": {
  "kernelspec": {
   "display_name": "tensorflow",
   "language": "python",
   "name": "tensorflow"
  },
  "language_info": {
   "codemirror_mode": {
    "name": "ipython",
    "version": 3
   },
   "file_extension": ".py",
   "mimetype": "text/x-python",
   "name": "python",
   "nbconvert_exporter": "python",
   "pygments_lexer": "ipython3",
   "version": "3.9.16"
  }
 },
 "nbformat": 4,
 "nbformat_minor": 5
}
